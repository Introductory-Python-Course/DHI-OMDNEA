{
 "cells": [
  {
   "cell_type": "markdown",
   "metadata": {
    "id": "NRRQQmoWcXIb"
   },
   "source": [
    "![grafik.png](attachment:grafik.png)"
   ]
  },
  {
   "cell_type": "markdown",
   "metadata": {
    "id": "owt_BQklcXId"
   },
   "source": [
    "# WAIA Data Science with Python 2021 - Week 8 Exercises"
   ]
  },
  {
   "cell_type": "markdown",
   "metadata": {
    "id": "GoW1pmoqcXId"
   },
   "source": [
    "scikit learn comes with a number of datasets that we can use to develop basic machine learning solutions. In this homework, we will deal with the breast cancer dataset."
   ]
  },
  {
   "cell_type": "markdown",
   "metadata": {
    "id": "FqbKLlvicXIe"
   },
   "source": [
    "Here you can find more information about the dataset: https://archive.ics.uci.edu/ml/datasets/Breast+Cancer+Wisconsin+(Diagnostic)"
   ]
  },
  {
   "cell_type": "markdown",
   "metadata": {
    "id": "zTqhjcXfcXIe"
   },
   "source": [
    "Import the dataset from scikit-learn into a DataFrame called bc. Note that the load_.. function in scikit learn will not directly return a DataFrame but a Bunch object. Read more about this in the scikit-learn documentation."
   ]
  },
  {
   "cell_type": "code",
   "execution_count": 1,
   "metadata": {
    "id": "QCP4NJV5cXIe"
   },
   "outputs": [],
   "source": [
    "import pandas as pd\n",
    "import numpy as np\n",
    "from sklearn.datasets import load_breast_cancer\n",
    "data1=load_breast_cancer()\n",
    "bc= pd.DataFrame(data=data1.data, columns=data1.feature_names)"
   ]
  },
  {
   "cell_type": "markdown",
   "metadata": {
    "id": "7YCUXfTAcXIf"
   },
   "source": [
    "Examine the first 5 rows of the dataset and its shape"
   ]
  },
  {
   "cell_type": "code",
   "execution_count": 2,
   "metadata": {
    "id": "CdvbYh4scXIf"
   },
   "outputs": [
    {
     "name": "stdout",
     "output_type": "stream",
     "text": [
      "   mean radius  mean texture  mean perimeter  mean area  mean smoothness  \\\n",
      "0        17.99         10.38          122.80     1001.0          0.11840   \n",
      "1        20.57         17.77          132.90     1326.0          0.08474   \n",
      "2        19.69         21.25          130.00     1203.0          0.10960   \n",
      "3        11.42         20.38           77.58      386.1          0.14250   \n",
      "4        20.29         14.34          135.10     1297.0          0.10030   \n",
      "\n",
      "   mean compactness  mean concavity  mean concave points  mean symmetry  \\\n",
      "0           0.27760          0.3001              0.14710         0.2419   \n",
      "1           0.07864          0.0869              0.07017         0.1812   \n",
      "2           0.15990          0.1974              0.12790         0.2069   \n",
      "3           0.28390          0.2414              0.10520         0.2597   \n",
      "4           0.13280          0.1980              0.10430         0.1809   \n",
      "\n",
      "   mean fractal dimension  ...  worst radius  worst texture  worst perimeter  \\\n",
      "0                 0.07871  ...         25.38          17.33           184.60   \n",
      "1                 0.05667  ...         24.99          23.41           158.80   \n",
      "2                 0.05999  ...         23.57          25.53           152.50   \n",
      "3                 0.09744  ...         14.91          26.50            98.87   \n",
      "4                 0.05883  ...         22.54          16.67           152.20   \n",
      "\n",
      "   worst area  worst smoothness  worst compactness  worst concavity  \\\n",
      "0      2019.0            0.1622             0.6656           0.7119   \n",
      "1      1956.0            0.1238             0.1866           0.2416   \n",
      "2      1709.0            0.1444             0.4245           0.4504   \n",
      "3       567.7            0.2098             0.8663           0.6869   \n",
      "4      1575.0            0.1374             0.2050           0.4000   \n",
      "\n",
      "   worst concave points  worst symmetry  worst fractal dimension  \n",
      "0                0.2654          0.4601                  0.11890  \n",
      "1                0.1860          0.2750                  0.08902  \n",
      "2                0.2430          0.3613                  0.08758  \n",
      "3                0.2575          0.6638                  0.17300  \n",
      "4                0.1625          0.2364                  0.07678  \n",
      "\n",
      "[5 rows x 30 columns]\n",
      "(569, 30)\n"
     ]
    }
   ],
   "source": [
    "print(bc.head())\n",
    "print(bc.shape)"
   ]
  },
  {
   "cell_type": "markdown",
   "metadata": {
    "id": "hiyaLld9cXIf"
   },
   "source": [
    "Now let's add another column called \"diagnosis\" and assign it the target variable from the dataset."
   ]
  },
  {
   "cell_type": "code",
   "execution_count": 3,
   "metadata": {
    "id": "8QOiAFZ2cXIg"
   },
   "outputs": [],
   "source": [
    "bc[\"diagnosis\"]=data1['target']"
   ]
  },
  {
   "cell_type": "markdown",
   "metadata": {
    "id": "4_MqLiytcXIg"
   },
   "source": [
    "How many benign (1) and malign (0) tumor diagnoses are in the dataset?"
   ]
  },
  {
   "cell_type": "code",
   "execution_count": 4,
   "metadata": {
    "id": "r4SjDtOPcXIg"
   },
   "outputs": [
    {
     "data": {
      "text/html": [
       "<div>\n",
       "<style scoped>\n",
       "    .dataframe tbody tr th:only-of-type {\n",
       "        vertical-align: middle;\n",
       "    }\n",
       "\n",
       "    .dataframe tbody tr th {\n",
       "        vertical-align: top;\n",
       "    }\n",
       "\n",
       "    .dataframe thead th {\n",
       "        text-align: right;\n",
       "    }\n",
       "</style>\n",
       "<table border=\"1\" class=\"dataframe\">\n",
       "  <thead>\n",
       "    <tr style=\"text-align: right;\">\n",
       "      <th></th>\n",
       "      <th>mean radius</th>\n",
       "      <th>mean texture</th>\n",
       "      <th>mean perimeter</th>\n",
       "      <th>mean area</th>\n",
       "      <th>mean smoothness</th>\n",
       "      <th>mean compactness</th>\n",
       "      <th>mean concavity</th>\n",
       "      <th>mean concave points</th>\n",
       "      <th>mean symmetry</th>\n",
       "      <th>mean fractal dimension</th>\n",
       "      <th>...</th>\n",
       "      <th>worst radius</th>\n",
       "      <th>worst texture</th>\n",
       "      <th>worst perimeter</th>\n",
       "      <th>worst area</th>\n",
       "      <th>worst smoothness</th>\n",
       "      <th>worst compactness</th>\n",
       "      <th>worst concavity</th>\n",
       "      <th>worst concave points</th>\n",
       "      <th>worst symmetry</th>\n",
       "      <th>worst fractal dimension</th>\n",
       "    </tr>\n",
       "    <tr>\n",
       "      <th>diagnosis</th>\n",
       "      <th></th>\n",
       "      <th></th>\n",
       "      <th></th>\n",
       "      <th></th>\n",
       "      <th></th>\n",
       "      <th></th>\n",
       "      <th></th>\n",
       "      <th></th>\n",
       "      <th></th>\n",
       "      <th></th>\n",
       "      <th></th>\n",
       "      <th></th>\n",
       "      <th></th>\n",
       "      <th></th>\n",
       "      <th></th>\n",
       "      <th></th>\n",
       "      <th></th>\n",
       "      <th></th>\n",
       "      <th></th>\n",
       "      <th></th>\n",
       "      <th></th>\n",
       "    </tr>\n",
       "  </thead>\n",
       "  <tbody>\n",
       "    <tr>\n",
       "      <th>0</th>\n",
       "      <td>212</td>\n",
       "      <td>212</td>\n",
       "      <td>212</td>\n",
       "      <td>212</td>\n",
       "      <td>212</td>\n",
       "      <td>212</td>\n",
       "      <td>212</td>\n",
       "      <td>212</td>\n",
       "      <td>212</td>\n",
       "      <td>212</td>\n",
       "      <td>...</td>\n",
       "      <td>212</td>\n",
       "      <td>212</td>\n",
       "      <td>212</td>\n",
       "      <td>212</td>\n",
       "      <td>212</td>\n",
       "      <td>212</td>\n",
       "      <td>212</td>\n",
       "      <td>212</td>\n",
       "      <td>212</td>\n",
       "      <td>212</td>\n",
       "    </tr>\n",
       "    <tr>\n",
       "      <th>1</th>\n",
       "      <td>357</td>\n",
       "      <td>357</td>\n",
       "      <td>357</td>\n",
       "      <td>357</td>\n",
       "      <td>357</td>\n",
       "      <td>357</td>\n",
       "      <td>357</td>\n",
       "      <td>357</td>\n",
       "      <td>357</td>\n",
       "      <td>357</td>\n",
       "      <td>...</td>\n",
       "      <td>357</td>\n",
       "      <td>357</td>\n",
       "      <td>357</td>\n",
       "      <td>357</td>\n",
       "      <td>357</td>\n",
       "      <td>357</td>\n",
       "      <td>357</td>\n",
       "      <td>357</td>\n",
       "      <td>357</td>\n",
       "      <td>357</td>\n",
       "    </tr>\n",
       "  </tbody>\n",
       "</table>\n",
       "<p>2 rows × 30 columns</p>\n",
       "</div>"
      ],
      "text/plain": [
       "           mean radius  mean texture  mean perimeter  mean area  \\\n",
       "diagnosis                                                         \n",
       "0                  212           212             212        212   \n",
       "1                  357           357             357        357   \n",
       "\n",
       "           mean smoothness  mean compactness  mean concavity  \\\n",
       "diagnosis                                                      \n",
       "0                      212               212             212   \n",
       "1                      357               357             357   \n",
       "\n",
       "           mean concave points  mean symmetry  mean fractal dimension  ...  \\\n",
       "diagnosis                                                              ...   \n",
       "0                          212            212                     212  ...   \n",
       "1                          357            357                     357  ...   \n",
       "\n",
       "           worst radius  worst texture  worst perimeter  worst area  \\\n",
       "diagnosis                                                             \n",
       "0                   212            212              212         212   \n",
       "1                   357            357              357         357   \n",
       "\n",
       "           worst smoothness  worst compactness  worst concavity  \\\n",
       "diagnosis                                                         \n",
       "0                       212                212              212   \n",
       "1                       357                357              357   \n",
       "\n",
       "           worst concave points  worst symmetry  worst fractal dimension  \n",
       "diagnosis                                                                 \n",
       "0                           212             212                      212  \n",
       "1                           357             357                      357  \n",
       "\n",
       "[2 rows x 30 columns]"
      ]
     },
     "execution_count": 4,
     "metadata": {},
     "output_type": "execute_result"
    }
   ],
   "source": [
    "bc.groupby('diagnosis').count()"
   ]
  },
  {
   "cell_type": "markdown",
   "metadata": {
    "id": "fXuovEJtcXIg"
   },
   "source": [
    "Is there any missing data?"
   ]
  },
  {
   "cell_type": "code",
   "execution_count": 5,
   "metadata": {
    "id": "-lBbJ5R2cXIg"
   },
   "outputs": [
    {
     "data": {
      "text/plain": [
       "mean radius                0\n",
       "mean texture               0\n",
       "mean perimeter             0\n",
       "mean area                  0\n",
       "mean smoothness            0\n",
       "mean compactness           0\n",
       "mean concavity             0\n",
       "mean concave points        0\n",
       "mean symmetry              0\n",
       "mean fractal dimension     0\n",
       "radius error               0\n",
       "texture error              0\n",
       "perimeter error            0\n",
       "area error                 0\n",
       "smoothness error           0\n",
       "compactness error          0\n",
       "concavity error            0\n",
       "concave points error       0\n",
       "symmetry error             0\n",
       "fractal dimension error    0\n",
       "worst radius               0\n",
       "worst texture              0\n",
       "worst perimeter            0\n",
       "worst area                 0\n",
       "worst smoothness           0\n",
       "worst compactness          0\n",
       "worst concavity            0\n",
       "worst concave points       0\n",
       "worst symmetry             0\n",
       "worst fractal dimension    0\n",
       "diagnosis                  0\n",
       "dtype: int64"
      ]
     },
     "execution_count": 5,
     "metadata": {},
     "output_type": "execute_result"
    }
   ],
   "source": [
    "bc.isna().sum()"
   ]
  },
  {
   "cell_type": "markdown",
   "metadata": {
    "id": "YB125hhtcXIg"
   },
   "source": [
    "Any apparent outliers?"
   ]
  },
  {
   "cell_type": "code",
   "execution_count": 6,
   "metadata": {
    "id": "4kKq1XcfcXIh"
   },
   "outputs": [
    {
     "data": {
      "text/plain": [
       "{'whiskers': [<matplotlib.lines.Line2D at 0x17670b45c40>,\n",
       "  <matplotlib.lines.Line2D at 0x17670b45f10>,\n",
       "  <matplotlib.lines.Line2D at 0x17672b790a0>,\n",
       "  <matplotlib.lines.Line2D at 0x17672b79370>,\n",
       "  <matplotlib.lines.Line2D at 0x17672b84490>,\n",
       "  <matplotlib.lines.Line2D at 0x17672b84760>,\n",
       "  <matplotlib.lines.Line2D at 0x17672b92880>,\n",
       "  <matplotlib.lines.Line2D at 0x17672b92b50>,\n",
       "  <matplotlib.lines.Line2D at 0x17672b9fc70>,\n",
       "  <matplotlib.lines.Line2D at 0x17672b9ff40>,\n",
       "  <matplotlib.lines.Line2D at 0x17672bb70a0>,\n",
       "  <matplotlib.lines.Line2D at 0x17672bb7370>,\n",
       "  <matplotlib.lines.Line2D at 0x17672bc5490>,\n",
       "  <matplotlib.lines.Line2D at 0x17672bc5760>,\n",
       "  <matplotlib.lines.Line2D at 0x17672bd3880>,\n",
       "  <matplotlib.lines.Line2D at 0x17672bd3b50>,\n",
       "  <matplotlib.lines.Line2D at 0x17672be0c70>,\n",
       "  <matplotlib.lines.Line2D at 0x17672be0f40>,\n",
       "  <matplotlib.lines.Line2D at 0x17672bf90a0>,\n",
       "  <matplotlib.lines.Line2D at 0x17672bf9370>,\n",
       "  <matplotlib.lines.Line2D at 0x17672c06490>,\n",
       "  <matplotlib.lines.Line2D at 0x17672c06760>,\n",
       "  <matplotlib.lines.Line2D at 0x17672c16640>,\n",
       "  <matplotlib.lines.Line2D at 0x17672c16910>,\n",
       "  <matplotlib.lines.Line2D at 0x17672c21a30>,\n",
       "  <matplotlib.lines.Line2D at 0x17672c21d00>,\n",
       "  <matplotlib.lines.Line2D at 0x17672c2ee20>,\n",
       "  <matplotlib.lines.Line2D at 0x17672c3b130>,\n",
       "  <matplotlib.lines.Line2D at 0x17672c49250>,\n",
       "  <matplotlib.lines.Line2D at 0x17672c49520>,\n",
       "  <matplotlib.lines.Line2D at 0x17672c56640>,\n",
       "  <matplotlib.lines.Line2D at 0x17672c56910>,\n",
       "  <matplotlib.lines.Line2D at 0x17672c62a30>,\n",
       "  <matplotlib.lines.Line2D at 0x17672c62d00>,\n",
       "  <matplotlib.lines.Line2D at 0x17672c6fe20>,\n",
       "  <matplotlib.lines.Line2D at 0x17672c7b130>,\n",
       "  <matplotlib.lines.Line2D at 0x17672c89250>,\n",
       "  <matplotlib.lines.Line2D at 0x17672c89520>,\n",
       "  <matplotlib.lines.Line2D at 0x17672c96640>,\n",
       "  <matplotlib.lines.Line2D at 0x17672c96910>,\n",
       "  <matplotlib.lines.Line2D at 0x17672ca3a30>,\n",
       "  <matplotlib.lines.Line2D at 0x17672ca3d00>,\n",
       "  <matplotlib.lines.Line2D at 0x17672cb0e20>,\n",
       "  <matplotlib.lines.Line2D at 0x17672cbe130>,\n",
       "  <matplotlib.lines.Line2D at 0x17672cc9250>,\n",
       "  <matplotlib.lines.Line2D at 0x17672cc9520>,\n",
       "  <matplotlib.lines.Line2D at 0x17672cd8640>,\n",
       "  <matplotlib.lines.Line2D at 0x17672cd8910>,\n",
       "  <matplotlib.lines.Line2D at 0x17672ce2a30>,\n",
       "  <matplotlib.lines.Line2D at 0x17672ce2d00>,\n",
       "  <matplotlib.lines.Line2D at 0x17672cefe20>,\n",
       "  <matplotlib.lines.Line2D at 0x17672cfc130>,\n",
       "  <matplotlib.lines.Line2D at 0x17672d0a250>,\n",
       "  <matplotlib.lines.Line2D at 0x17672d0a520>,\n",
       "  <matplotlib.lines.Line2D at 0x17672d18640>,\n",
       "  <matplotlib.lines.Line2D at 0x17672d18910>,\n",
       "  <matplotlib.lines.Line2D at 0x17672d22a30>,\n",
       "  <matplotlib.lines.Line2D at 0x17672d22d00>,\n",
       "  <matplotlib.lines.Line2D at 0x17672d31e20>,\n",
       "  <matplotlib.lines.Line2D at 0x17672d3e130>,\n",
       "  <matplotlib.lines.Line2D at 0x17672d4b250>,\n",
       "  <matplotlib.lines.Line2D at 0x17672d4b520>],\n",
       " 'caps': [<matplotlib.lines.Line2D at 0x17672b6b2e0>,\n",
       "  <matplotlib.lines.Line2D at 0x17672b6b4f0>,\n",
       "  <matplotlib.lines.Line2D at 0x17672b79640>,\n",
       "  <matplotlib.lines.Line2D at 0x17672b79910>,\n",
       "  <matplotlib.lines.Line2D at 0x17672b84a30>,\n",
       "  <matplotlib.lines.Line2D at 0x17672b84d00>,\n",
       "  <matplotlib.lines.Line2D at 0x17672b92e20>,\n",
       "  <matplotlib.lines.Line2D at 0x17672b9f130>,\n",
       "  <matplotlib.lines.Line2D at 0x17672bab250>,\n",
       "  <matplotlib.lines.Line2D at 0x17672bab520>,\n",
       "  <matplotlib.lines.Line2D at 0x17672bb7640>,\n",
       "  <matplotlib.lines.Line2D at 0x17672bb7910>,\n",
       "  <matplotlib.lines.Line2D at 0x17672bc5a30>,\n",
       "  <matplotlib.lines.Line2D at 0x17672bc5d00>,\n",
       "  <matplotlib.lines.Line2D at 0x17672bd3e20>,\n",
       "  <matplotlib.lines.Line2D at 0x17672be0130>,\n",
       "  <matplotlib.lines.Line2D at 0x17672bed250>,\n",
       "  <matplotlib.lines.Line2D at 0x17672bed520>,\n",
       "  <matplotlib.lines.Line2D at 0x17672bf9640>,\n",
       "  <matplotlib.lines.Line2D at 0x17672bf9910>,\n",
       "  <matplotlib.lines.Line2D at 0x17672c06a30>,\n",
       "  <matplotlib.lines.Line2D at 0x17672c06910>,\n",
       "  <matplotlib.lines.Line2D at 0x17672c16be0>,\n",
       "  <matplotlib.lines.Line2D at 0x17672c16eb0>,\n",
       "  <matplotlib.lines.Line2D at 0x17672c21fd0>,\n",
       "  <matplotlib.lines.Line2D at 0x17672c2e2e0>,\n",
       "  <matplotlib.lines.Line2D at 0x17672c3b400>,\n",
       "  <matplotlib.lines.Line2D at 0x17672c3b6d0>,\n",
       "  <matplotlib.lines.Line2D at 0x17672c497f0>,\n",
       "  <matplotlib.lines.Line2D at 0x17672c49ac0>,\n",
       "  <matplotlib.lines.Line2D at 0x17672c56be0>,\n",
       "  <matplotlib.lines.Line2D at 0x17672c56eb0>,\n",
       "  <matplotlib.lines.Line2D at 0x17672c62fd0>,\n",
       "  <matplotlib.lines.Line2D at 0x17672c6f2e0>,\n",
       "  <matplotlib.lines.Line2D at 0x17672c7b400>,\n",
       "  <matplotlib.lines.Line2D at 0x17672c7b6d0>,\n",
       "  <matplotlib.lines.Line2D at 0x17672c897f0>,\n",
       "  <matplotlib.lines.Line2D at 0x17672c89ac0>,\n",
       "  <matplotlib.lines.Line2D at 0x17672c96be0>,\n",
       "  <matplotlib.lines.Line2D at 0x17672c96eb0>,\n",
       "  <matplotlib.lines.Line2D at 0x17672ca3fd0>,\n",
       "  <matplotlib.lines.Line2D at 0x17672cb02e0>,\n",
       "  <matplotlib.lines.Line2D at 0x17672cbe400>,\n",
       "  <matplotlib.lines.Line2D at 0x17672cbe6d0>,\n",
       "  <matplotlib.lines.Line2D at 0x17672cc97f0>,\n",
       "  <matplotlib.lines.Line2D at 0x17672cc9ac0>,\n",
       "  <matplotlib.lines.Line2D at 0x17672cd8be0>,\n",
       "  <matplotlib.lines.Line2D at 0x17672cd8eb0>,\n",
       "  <matplotlib.lines.Line2D at 0x17672ce2fd0>,\n",
       "  <matplotlib.lines.Line2D at 0x17672cef2e0>,\n",
       "  <matplotlib.lines.Line2D at 0x17672cfc400>,\n",
       "  <matplotlib.lines.Line2D at 0x17672cfc6d0>,\n",
       "  <matplotlib.lines.Line2D at 0x17672d0a7f0>,\n",
       "  <matplotlib.lines.Line2D at 0x17672d0aac0>,\n",
       "  <matplotlib.lines.Line2D at 0x17672d18be0>,\n",
       "  <matplotlib.lines.Line2D at 0x17672d18eb0>,\n",
       "  <matplotlib.lines.Line2D at 0x17672d22fd0>,\n",
       "  <matplotlib.lines.Line2D at 0x17672d312e0>,\n",
       "  <matplotlib.lines.Line2D at 0x17672d3e400>,\n",
       "  <matplotlib.lines.Line2D at 0x17672d3e6d0>,\n",
       "  <matplotlib.lines.Line2D at 0x17672d4b7f0>,\n",
       "  <matplotlib.lines.Line2D at 0x17672d4bac0>],\n",
       " 'boxes': [<matplotlib.lines.Line2D at 0x17670b45970>,\n",
       "  <matplotlib.lines.Line2D at 0x17672b6bd90>,\n",
       "  <matplotlib.lines.Line2D at 0x17672b841c0>,\n",
       "  <matplotlib.lines.Line2D at 0x17672b925b0>,\n",
       "  <matplotlib.lines.Line2D at 0x17672b9f9a0>,\n",
       "  <matplotlib.lines.Line2D at 0x17672babd90>,\n",
       "  <matplotlib.lines.Line2D at 0x17672bc51c0>,\n",
       "  <matplotlib.lines.Line2D at 0x17672bd35b0>,\n",
       "  <matplotlib.lines.Line2D at 0x17672be09a0>,\n",
       "  <matplotlib.lines.Line2D at 0x17672bedd90>,\n",
       "  <matplotlib.lines.Line2D at 0x17672c061c0>,\n",
       "  <matplotlib.lines.Line2D at 0x17672c16370>,\n",
       "  <matplotlib.lines.Line2D at 0x17672c21760>,\n",
       "  <matplotlib.lines.Line2D at 0x17672c2eb50>,\n",
       "  <matplotlib.lines.Line2D at 0x17672c3bf40>,\n",
       "  <matplotlib.lines.Line2D at 0x17672c56370>,\n",
       "  <matplotlib.lines.Line2D at 0x17672c62760>,\n",
       "  <matplotlib.lines.Line2D at 0x17672c6fb50>,\n",
       "  <matplotlib.lines.Line2D at 0x17672c7bf40>,\n",
       "  <matplotlib.lines.Line2D at 0x17672c96370>,\n",
       "  <matplotlib.lines.Line2D at 0x17672ca3760>,\n",
       "  <matplotlib.lines.Line2D at 0x17672cb0b50>,\n",
       "  <matplotlib.lines.Line2D at 0x17672cbef40>,\n",
       "  <matplotlib.lines.Line2D at 0x17672cd8370>,\n",
       "  <matplotlib.lines.Line2D at 0x17672ce2760>,\n",
       "  <matplotlib.lines.Line2D at 0x17672cefb50>,\n",
       "  <matplotlib.lines.Line2D at 0x17672cfcf40>,\n",
       "  <matplotlib.lines.Line2D at 0x17672d18370>,\n",
       "  <matplotlib.lines.Line2D at 0x17672d22760>,\n",
       "  <matplotlib.lines.Line2D at 0x17672d31b50>,\n",
       "  <matplotlib.lines.Line2D at 0x17672d3ef40>],\n",
       " 'medians': [<matplotlib.lines.Line2D at 0x17672b6b7c0>,\n",
       "  <matplotlib.lines.Line2D at 0x17672b79be0>,\n",
       "  <matplotlib.lines.Line2D at 0x17672b84fd0>,\n",
       "  <matplotlib.lines.Line2D at 0x17672b9f400>,\n",
       "  <matplotlib.lines.Line2D at 0x17672bab7f0>,\n",
       "  <matplotlib.lines.Line2D at 0x17672bb7be0>,\n",
       "  <matplotlib.lines.Line2D at 0x17672bc5fd0>,\n",
       "  <matplotlib.lines.Line2D at 0x17672be0400>,\n",
       "  <matplotlib.lines.Line2D at 0x17672bed7f0>,\n",
       "  <matplotlib.lines.Line2D at 0x17672bf9be0>,\n",
       "  <matplotlib.lines.Line2D at 0x17672c06d90>,\n",
       "  <matplotlib.lines.Line2D at 0x17672c211c0>,\n",
       "  <matplotlib.lines.Line2D at 0x17672c2e5b0>,\n",
       "  <matplotlib.lines.Line2D at 0x17672c3b9a0>,\n",
       "  <matplotlib.lines.Line2D at 0x17672c49d90>,\n",
       "  <matplotlib.lines.Line2D at 0x17672c621c0>,\n",
       "  <matplotlib.lines.Line2D at 0x17672c6f5b0>,\n",
       "  <matplotlib.lines.Line2D at 0x17672c7b9a0>,\n",
       "  <matplotlib.lines.Line2D at 0x17672c89d90>,\n",
       "  <matplotlib.lines.Line2D at 0x17672ca31c0>,\n",
       "  <matplotlib.lines.Line2D at 0x17672cb05b0>,\n",
       "  <matplotlib.lines.Line2D at 0x17672cbe9a0>,\n",
       "  <matplotlib.lines.Line2D at 0x17672cc9d90>,\n",
       "  <matplotlib.lines.Line2D at 0x17672ce21c0>,\n",
       "  <matplotlib.lines.Line2D at 0x17672cef5b0>,\n",
       "  <matplotlib.lines.Line2D at 0x17672cfc9a0>,\n",
       "  <matplotlib.lines.Line2D at 0x17672d0ad90>,\n",
       "  <matplotlib.lines.Line2D at 0x17672d221c0>,\n",
       "  <matplotlib.lines.Line2D at 0x17672d315b0>,\n",
       "  <matplotlib.lines.Line2D at 0x17672d3e9a0>,\n",
       "  <matplotlib.lines.Line2D at 0x17672d4bd90>],\n",
       " 'fliers': [<matplotlib.lines.Line2D at 0x17672b6ba90>,\n",
       "  <matplotlib.lines.Line2D at 0x17672b79eb0>,\n",
       "  <matplotlib.lines.Line2D at 0x17672b922e0>,\n",
       "  <matplotlib.lines.Line2D at 0x17672b9f6d0>,\n",
       "  <matplotlib.lines.Line2D at 0x17672babac0>,\n",
       "  <matplotlib.lines.Line2D at 0x17672bb7eb0>,\n",
       "  <matplotlib.lines.Line2D at 0x17672bd32e0>,\n",
       "  <matplotlib.lines.Line2D at 0x17672be06d0>,\n",
       "  <matplotlib.lines.Line2D at 0x17672bedac0>,\n",
       "  <matplotlib.lines.Line2D at 0x17672bf9eb0>,\n",
       "  <matplotlib.lines.Line2D at 0x17672c160a0>,\n",
       "  <matplotlib.lines.Line2D at 0x17672c21490>,\n",
       "  <matplotlib.lines.Line2D at 0x17672c2e880>,\n",
       "  <matplotlib.lines.Line2D at 0x17672c3bc70>,\n",
       "  <matplotlib.lines.Line2D at 0x17672c560a0>,\n",
       "  <matplotlib.lines.Line2D at 0x17672c62490>,\n",
       "  <matplotlib.lines.Line2D at 0x17672c6f880>,\n",
       "  <matplotlib.lines.Line2D at 0x17672c7bc70>,\n",
       "  <matplotlib.lines.Line2D at 0x17672c960a0>,\n",
       "  <matplotlib.lines.Line2D at 0x17672ca3490>,\n",
       "  <matplotlib.lines.Line2D at 0x17672cb0880>,\n",
       "  <matplotlib.lines.Line2D at 0x17672cbec70>,\n",
       "  <matplotlib.lines.Line2D at 0x17672cd80a0>,\n",
       "  <matplotlib.lines.Line2D at 0x17672ce2490>,\n",
       "  <matplotlib.lines.Line2D at 0x17672cef880>,\n",
       "  <matplotlib.lines.Line2D at 0x17672cfcc70>,\n",
       "  <matplotlib.lines.Line2D at 0x17672d180a0>,\n",
       "  <matplotlib.lines.Line2D at 0x17672d22490>,\n",
       "  <matplotlib.lines.Line2D at 0x17672d31880>,\n",
       "  <matplotlib.lines.Line2D at 0x17672d3ec70>,\n",
       "  <matplotlib.lines.Line2D at 0x17672d580a0>],\n",
       " 'means': []}"
      ]
     },
     "execution_count": 6,
     "metadata": {},
     "output_type": "execute_result"
    },
    {
     "data": {
      "image/png": "[encoded data removed]",
      "text/plain": [
       "<Figure size 432x288 with 1 Axes>"
      ]
     },
     "metadata": {
      "needs_background": "light"
     },
     "output_type": "display_data"
    }
   ],
   "source": [
    "import matplotlib.pyplot as plt\n",
    "plt.boxplot(bc)"
   ]
  },
  {
   "cell_type": "markdown",
   "metadata": {
    "id": "2P7Oq2ThcXIh"
   },
   "source": [
    "To get a better understanding of the correlation between each column of your dataset, create a scatter matrix of the dataset using seaborn (https://seaborn.pydata.org/examples/scatterplot_matrix.html)"
   ]
  },
  {
   "cell_type": "code",
   "execution_count": 7,
   "metadata": {},
   "outputs": [],
   "source": [
    "import seaborn as sns\n",
    "#sns.pairplot(bc, hue=\"diagnosis\")"
   ]
  },
  {
   "cell_type": "markdown",
   "metadata": {
    "id": "N4CKVPXScXIh"
   },
   "source": [
    "Plot histgrams for the different radius parameters for the categories malignant and benign to see which features influence the diagnosis. "
   ]
  },
  {
   "cell_type": "code",
   "execution_count": 8,
   "metadata": {
    "id": "w9J8PWvPcXIh"
   },
   "outputs": [
    {
     "data": {
      "text/plain": [
       "<AxesSubplot:xlabel='mean radius', ylabel='Count'>"
      ]
     },
     "execution_count": 8,
     "metadata": {},
     "output_type": "execute_result"
    },
    {
     "data": {
      "image/png": "[encoded data removed]",
      "text/plain": [
       "<Figure size 432x288 with 1 Axes>"
      ]
     },
     "metadata": {
      "needs_background": "light"
     },
     "output_type": "display_data"
    }
   ],
   "source": [
    "sns.histplot(data=bc, x=\"mean radius\", hue=\"diagnosis\")"
   ]
  },
  {
   "cell_type": "markdown",
   "metadata": {
    "id": "29XsdOLScXIh"
   },
   "source": [
    "Let's try to set up three models using this parameter. Each one should contain one of the all the features containing worst, error and mean in their description. Let's choose a logistic regression algorithm for this. Use train_test_split to subdivide your dataset into training and testing (80%/20% division). Have a look at the accuracy score for the model's performance. (Note: Next week you will learn more about how you can judge your model's performance)."
   ]
  },
  {
   "cell_type": "code",
   "execution_count": 9,
   "metadata": {
    "id": "rHIvb0XtcXIi"
   },
   "outputs": [],
   "source": [
    "from sklearn.model_selection import train_test_split\n",
    "training_data, testing_data=train_test_split(bc, test_size=0.8)"
   ]
  }
 ],
 "metadata": {
  "colab": {
   "name": "dsb32021-8w-assignment.ipynb",
   "provenance": []
  },
  "kernelspec": {
   "display_name": "Python 3",
   "language": "python",
   "name": "python3"
  },
  "language_info": {
   "codemirror_mode": {
    "name": "ipython",
    "version": 3
   },
   "file_extension": ".py",
   "mimetype": "text/x-python",
   "name": "python",
   "nbconvert_exporter": "python",
   "pygments_lexer": "ipython3",
   "version": "3.8.5"
  }
 },
 "nbformat": 4,
 "nbformat_minor": 1
}
